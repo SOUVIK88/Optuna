{
 "cells": [
  {
   "cell_type": "code",
   "execution_count": 5,
   "id": "cfd58a90",
   "metadata": {},
   "outputs": [
    {
     "data": {
      "text/html": [
       "<div>\n",
       "<style scoped>\n",
       "    .dataframe tbody tr th:only-of-type {\n",
       "        vertical-align: middle;\n",
       "    }\n",
       "\n",
       "    .dataframe tbody tr th {\n",
       "        vertical-align: top;\n",
       "    }\n",
       "\n",
       "    .dataframe thead th {\n",
       "        text-align: right;\n",
       "    }\n",
       "</style>\n",
       "<table border=\"1\" class=\"dataframe\">\n",
       "  <thead>\n",
       "    <tr style=\"text-align: right;\">\n",
       "      <th></th>\n",
       "      <th>Pregnancies</th>\n",
       "      <th>Glucose</th>\n",
       "      <th>BloodPressure</th>\n",
       "      <th>SkinThickness</th>\n",
       "      <th>Insulin</th>\n",
       "      <th>BMI</th>\n",
       "      <th>DiabetesPedigreeFunction</th>\n",
       "      <th>Age</th>\n",
       "      <th>Outcome</th>\n",
       "    </tr>\n",
       "  </thead>\n",
       "  <tbody>\n",
       "    <tr>\n",
       "      <th>0</th>\n",
       "      <td>6</td>\n",
       "      <td>148</td>\n",
       "      <td>72</td>\n",
       "      <td>35</td>\n",
       "      <td>0</td>\n",
       "      <td>33.6</td>\n",
       "      <td>0.627</td>\n",
       "      <td>50</td>\n",
       "      <td>1</td>\n",
       "    </tr>\n",
       "    <tr>\n",
       "      <th>1</th>\n",
       "      <td>1</td>\n",
       "      <td>85</td>\n",
       "      <td>66</td>\n",
       "      <td>29</td>\n",
       "      <td>0</td>\n",
       "      <td>26.6</td>\n",
       "      <td>0.351</td>\n",
       "      <td>31</td>\n",
       "      <td>0</td>\n",
       "    </tr>\n",
       "    <tr>\n",
       "      <th>2</th>\n",
       "      <td>8</td>\n",
       "      <td>183</td>\n",
       "      <td>64</td>\n",
       "      <td>0</td>\n",
       "      <td>0</td>\n",
       "      <td>23.3</td>\n",
       "      <td>0.672</td>\n",
       "      <td>32</td>\n",
       "      <td>1</td>\n",
       "    </tr>\n",
       "    <tr>\n",
       "      <th>3</th>\n",
       "      <td>1</td>\n",
       "      <td>89</td>\n",
       "      <td>66</td>\n",
       "      <td>23</td>\n",
       "      <td>94</td>\n",
       "      <td>28.1</td>\n",
       "      <td>0.167</td>\n",
       "      <td>21</td>\n",
       "      <td>0</td>\n",
       "    </tr>\n",
       "    <tr>\n",
       "      <th>4</th>\n",
       "      <td>0</td>\n",
       "      <td>137</td>\n",
       "      <td>40</td>\n",
       "      <td>35</td>\n",
       "      <td>168</td>\n",
       "      <td>43.1</td>\n",
       "      <td>2.288</td>\n",
       "      <td>33</td>\n",
       "      <td>1</td>\n",
       "    </tr>\n",
       "    <tr>\n",
       "      <th>...</th>\n",
       "      <td>...</td>\n",
       "      <td>...</td>\n",
       "      <td>...</td>\n",
       "      <td>...</td>\n",
       "      <td>...</td>\n",
       "      <td>...</td>\n",
       "      <td>...</td>\n",
       "      <td>...</td>\n",
       "      <td>...</td>\n",
       "    </tr>\n",
       "    <tr>\n",
       "      <th>763</th>\n",
       "      <td>10</td>\n",
       "      <td>101</td>\n",
       "      <td>76</td>\n",
       "      <td>48</td>\n",
       "      <td>180</td>\n",
       "      <td>32.9</td>\n",
       "      <td>0.171</td>\n",
       "      <td>63</td>\n",
       "      <td>0</td>\n",
       "    </tr>\n",
       "    <tr>\n",
       "      <th>764</th>\n",
       "      <td>2</td>\n",
       "      <td>122</td>\n",
       "      <td>70</td>\n",
       "      <td>27</td>\n",
       "      <td>0</td>\n",
       "      <td>36.8</td>\n",
       "      <td>0.340</td>\n",
       "      <td>27</td>\n",
       "      <td>0</td>\n",
       "    </tr>\n",
       "    <tr>\n",
       "      <th>765</th>\n",
       "      <td>5</td>\n",
       "      <td>121</td>\n",
       "      <td>72</td>\n",
       "      <td>23</td>\n",
       "      <td>112</td>\n",
       "      <td>26.2</td>\n",
       "      <td>0.245</td>\n",
       "      <td>30</td>\n",
       "      <td>0</td>\n",
       "    </tr>\n",
       "    <tr>\n",
       "      <th>766</th>\n",
       "      <td>1</td>\n",
       "      <td>126</td>\n",
       "      <td>60</td>\n",
       "      <td>0</td>\n",
       "      <td>0</td>\n",
       "      <td>30.1</td>\n",
       "      <td>0.349</td>\n",
       "      <td>47</td>\n",
       "      <td>1</td>\n",
       "    </tr>\n",
       "    <tr>\n",
       "      <th>767</th>\n",
       "      <td>1</td>\n",
       "      <td>93</td>\n",
       "      <td>70</td>\n",
       "      <td>31</td>\n",
       "      <td>0</td>\n",
       "      <td>30.4</td>\n",
       "      <td>0.315</td>\n",
       "      <td>23</td>\n",
       "      <td>0</td>\n",
       "    </tr>\n",
       "  </tbody>\n",
       "</table>\n",
       "<p>768 rows × 9 columns</p>\n",
       "</div>"
      ],
      "text/plain": [
       "     Pregnancies  Glucose  BloodPressure  SkinThickness  Insulin   BMI  \\\n",
       "0              6      148             72             35        0  33.6   \n",
       "1              1       85             66             29        0  26.6   \n",
       "2              8      183             64              0        0  23.3   \n",
       "3              1       89             66             23       94  28.1   \n",
       "4              0      137             40             35      168  43.1   \n",
       "..           ...      ...            ...            ...      ...   ...   \n",
       "763           10      101             76             48      180  32.9   \n",
       "764            2      122             70             27        0  36.8   \n",
       "765            5      121             72             23      112  26.2   \n",
       "766            1      126             60              0        0  30.1   \n",
       "767            1       93             70             31        0  30.4   \n",
       "\n",
       "     DiabetesPedigreeFunction  Age  Outcome  \n",
       "0                       0.627   50        1  \n",
       "1                       0.351   31        0  \n",
       "2                       0.672   32        1  \n",
       "3                       0.167   21        0  \n",
       "4                       2.288   33        1  \n",
       "..                        ...  ...      ...  \n",
       "763                     0.171   63        0  \n",
       "764                     0.340   27        0  \n",
       "765                     0.245   30        0  \n",
       "766                     0.349   47        1  \n",
       "767                     0.315   23        0  \n",
       "\n",
       "[768 rows x 9 columns]"
      ]
     },
     "execution_count": 5,
     "metadata": {},
     "output_type": "execute_result"
    }
   ],
   "source": [
    "import pandas as pd\n",
    "import matplotlib.pyplot as plt\n",
    "import numpy as np\n",
    "df=pd.read_csv(r\"diabetes.csv\")\n",
    "df\n"
   ]
  },
  {
   "cell_type": "code",
   "execution_count": 6,
   "id": "d475a696",
   "metadata": {},
   "outputs": [
    {
     "data": {
      "text/plain": [
       "Pregnancies  Glucose  BloodPressure  SkinThickness  Insulin  BMI   DiabetesPedigreeFunction  Age  Outcome\n",
       "0            57       60             0              0        21.7  0.735                     67   0          1\n",
       "             67       76             0              0        45.3  0.194                     46   0          1\n",
       "5            103      108            37             0        39.2  0.305                     65   0          1\n",
       "             104      74             0              0        28.8  0.153                     48   0          1\n",
       "             105      72             29             325      36.9  0.159                     28   0          1\n",
       "                                                                                                            ..\n",
       "2            84       50             23             76       30.4  0.968                     21   0          1\n",
       "             85       65             0              0        39.6  0.930                     27   0          1\n",
       "             87       0              23             0        28.9  0.773                     25   0          1\n",
       "                      58             16             52       32.7  0.166                     25   0          1\n",
       "17           163      72             41             114      40.9  0.817                     47   1          1\n",
       "Length: 768, dtype: int64"
      ]
     },
     "execution_count": 6,
     "metadata": {},
     "output_type": "execute_result"
    }
   ],
   "source": [
    "df.value_counts()"
   ]
  },
  {
   "cell_type": "code",
   "execution_count": 7,
   "id": "a618e37a",
   "metadata": {},
   "outputs": [],
   "source": [
    "df[\"Glucose\"]=np.where(df[\"Glucose\"]==0,df[\"Glucose\"].median(),df[\"Glucose\"])"
   ]
  },
  {
   "cell_type": "code",
   "execution_count": 9,
   "id": "6b568caa",
   "metadata": {},
   "outputs": [],
   "source": [
    "df[\"BloodPressure\"]=np.where(df[\"BloodPressure\"]==0,df[\"BloodPressure\"].median(),df[\"BloodPressure\"])"
   ]
  },
  {
   "cell_type": "code",
   "execution_count": 10,
   "id": "ed5ec41e",
   "metadata": {},
   "outputs": [],
   "source": [
    "df[\"SkinThickness\"]=np.where(df[\"SkinThickness\"]==0,df[\"SkinThickness\"].median(),df[\"SkinThickness\"])"
   ]
  },
  {
   "cell_type": "code",
   "execution_count": 11,
   "id": "9f2b7caa",
   "metadata": {},
   "outputs": [
    {
     "data": {
      "text/html": [
       "<div>\n",
       "<style scoped>\n",
       "    .dataframe tbody tr th:only-of-type {\n",
       "        vertical-align: middle;\n",
       "    }\n",
       "\n",
       "    .dataframe tbody tr th {\n",
       "        vertical-align: top;\n",
       "    }\n",
       "\n",
       "    .dataframe thead th {\n",
       "        text-align: right;\n",
       "    }\n",
       "</style>\n",
       "<table border=\"1\" class=\"dataframe\">\n",
       "  <thead>\n",
       "    <tr style=\"text-align: right;\">\n",
       "      <th></th>\n",
       "      <th>Pregnancies</th>\n",
       "      <th>Glucose</th>\n",
       "      <th>BloodPressure</th>\n",
       "      <th>SkinThickness</th>\n",
       "      <th>Insulin</th>\n",
       "      <th>BMI</th>\n",
       "      <th>DiabetesPedigreeFunction</th>\n",
       "      <th>Age</th>\n",
       "      <th>Outcome</th>\n",
       "    </tr>\n",
       "  </thead>\n",
       "  <tbody>\n",
       "    <tr>\n",
       "      <th>0</th>\n",
       "      <td>6</td>\n",
       "      <td>148.0</td>\n",
       "      <td>72.0</td>\n",
       "      <td>35.0</td>\n",
       "      <td>0</td>\n",
       "      <td>33.6</td>\n",
       "      <td>0.627</td>\n",
       "      <td>50</td>\n",
       "      <td>1</td>\n",
       "    </tr>\n",
       "    <tr>\n",
       "      <th>1</th>\n",
       "      <td>1</td>\n",
       "      <td>85.0</td>\n",
       "      <td>66.0</td>\n",
       "      <td>29.0</td>\n",
       "      <td>0</td>\n",
       "      <td>26.6</td>\n",
       "      <td>0.351</td>\n",
       "      <td>31</td>\n",
       "      <td>0</td>\n",
       "    </tr>\n",
       "    <tr>\n",
       "      <th>2</th>\n",
       "      <td>8</td>\n",
       "      <td>183.0</td>\n",
       "      <td>64.0</td>\n",
       "      <td>23.0</td>\n",
       "      <td>0</td>\n",
       "      <td>23.3</td>\n",
       "      <td>0.672</td>\n",
       "      <td>32</td>\n",
       "      <td>1</td>\n",
       "    </tr>\n",
       "    <tr>\n",
       "      <th>3</th>\n",
       "      <td>1</td>\n",
       "      <td>89.0</td>\n",
       "      <td>66.0</td>\n",
       "      <td>23.0</td>\n",
       "      <td>94</td>\n",
       "      <td>28.1</td>\n",
       "      <td>0.167</td>\n",
       "      <td>21</td>\n",
       "      <td>0</td>\n",
       "    </tr>\n",
       "    <tr>\n",
       "      <th>4</th>\n",
       "      <td>0</td>\n",
       "      <td>137.0</td>\n",
       "      <td>40.0</td>\n",
       "      <td>35.0</td>\n",
       "      <td>168</td>\n",
       "      <td>43.1</td>\n",
       "      <td>2.288</td>\n",
       "      <td>33</td>\n",
       "      <td>1</td>\n",
       "    </tr>\n",
       "  </tbody>\n",
       "</table>\n",
       "</div>"
      ],
      "text/plain": [
       "   Pregnancies  Glucose  BloodPressure  SkinThickness  Insulin   BMI  \\\n",
       "0            6    148.0           72.0           35.0        0  33.6   \n",
       "1            1     85.0           66.0           29.0        0  26.6   \n",
       "2            8    183.0           64.0           23.0        0  23.3   \n",
       "3            1     89.0           66.0           23.0       94  28.1   \n",
       "4            0    137.0           40.0           35.0      168  43.1   \n",
       "\n",
       "   DiabetesPedigreeFunction  Age  Outcome  \n",
       "0                     0.627   50        1  \n",
       "1                     0.351   31        0  \n",
       "2                     0.672   32        1  \n",
       "3                     0.167   21        0  \n",
       "4                     2.288   33        1  "
      ]
     },
     "execution_count": 11,
     "metadata": {},
     "output_type": "execute_result"
    }
   ],
   "source": [
    "df.head()"
   ]
  },
  {
   "cell_type": "code",
   "execution_count": 13,
   "id": "42887862",
   "metadata": {},
   "outputs": [],
   "source": [
    "x=df.drop(\"Outcome\",axis=1)\n",
    "y=df[\"Outcome\"]"
   ]
  },
  {
   "cell_type": "code",
   "execution_count": 14,
   "id": "fc18b904",
   "metadata": {},
   "outputs": [
    {
     "data": {
      "text/html": [
       "<div>\n",
       "<style scoped>\n",
       "    .dataframe tbody tr th:only-of-type {\n",
       "        vertical-align: middle;\n",
       "    }\n",
       "\n",
       "    .dataframe tbody tr th {\n",
       "        vertical-align: top;\n",
       "    }\n",
       "\n",
       "    .dataframe thead th {\n",
       "        text-align: right;\n",
       "    }\n",
       "</style>\n",
       "<table border=\"1\" class=\"dataframe\">\n",
       "  <thead>\n",
       "    <tr style=\"text-align: right;\">\n",
       "      <th></th>\n",
       "      <th>Pregnancies</th>\n",
       "      <th>Glucose</th>\n",
       "      <th>BloodPressure</th>\n",
       "      <th>SkinThickness</th>\n",
       "      <th>Insulin</th>\n",
       "      <th>BMI</th>\n",
       "      <th>DiabetesPedigreeFunction</th>\n",
       "      <th>Age</th>\n",
       "    </tr>\n",
       "  </thead>\n",
       "  <tbody>\n",
       "    <tr>\n",
       "      <th>0</th>\n",
       "      <td>6</td>\n",
       "      <td>148.0</td>\n",
       "      <td>72.0</td>\n",
       "      <td>35.0</td>\n",
       "      <td>0</td>\n",
       "      <td>33.6</td>\n",
       "      <td>0.627</td>\n",
       "      <td>50</td>\n",
       "    </tr>\n",
       "    <tr>\n",
       "      <th>1</th>\n",
       "      <td>1</td>\n",
       "      <td>85.0</td>\n",
       "      <td>66.0</td>\n",
       "      <td>29.0</td>\n",
       "      <td>0</td>\n",
       "      <td>26.6</td>\n",
       "      <td>0.351</td>\n",
       "      <td>31</td>\n",
       "    </tr>\n",
       "    <tr>\n",
       "      <th>2</th>\n",
       "      <td>8</td>\n",
       "      <td>183.0</td>\n",
       "      <td>64.0</td>\n",
       "      <td>23.0</td>\n",
       "      <td>0</td>\n",
       "      <td>23.3</td>\n",
       "      <td>0.672</td>\n",
       "      <td>32</td>\n",
       "    </tr>\n",
       "    <tr>\n",
       "      <th>3</th>\n",
       "      <td>1</td>\n",
       "      <td>89.0</td>\n",
       "      <td>66.0</td>\n",
       "      <td>23.0</td>\n",
       "      <td>94</td>\n",
       "      <td>28.1</td>\n",
       "      <td>0.167</td>\n",
       "      <td>21</td>\n",
       "    </tr>\n",
       "    <tr>\n",
       "      <th>4</th>\n",
       "      <td>0</td>\n",
       "      <td>137.0</td>\n",
       "      <td>40.0</td>\n",
       "      <td>35.0</td>\n",
       "      <td>168</td>\n",
       "      <td>43.1</td>\n",
       "      <td>2.288</td>\n",
       "      <td>33</td>\n",
       "    </tr>\n",
       "    <tr>\n",
       "      <th>...</th>\n",
       "      <td>...</td>\n",
       "      <td>...</td>\n",
       "      <td>...</td>\n",
       "      <td>...</td>\n",
       "      <td>...</td>\n",
       "      <td>...</td>\n",
       "      <td>...</td>\n",
       "      <td>...</td>\n",
       "    </tr>\n",
       "    <tr>\n",
       "      <th>763</th>\n",
       "      <td>10</td>\n",
       "      <td>101.0</td>\n",
       "      <td>76.0</td>\n",
       "      <td>48.0</td>\n",
       "      <td>180</td>\n",
       "      <td>32.9</td>\n",
       "      <td>0.171</td>\n",
       "      <td>63</td>\n",
       "    </tr>\n",
       "    <tr>\n",
       "      <th>764</th>\n",
       "      <td>2</td>\n",
       "      <td>122.0</td>\n",
       "      <td>70.0</td>\n",
       "      <td>27.0</td>\n",
       "      <td>0</td>\n",
       "      <td>36.8</td>\n",
       "      <td>0.340</td>\n",
       "      <td>27</td>\n",
       "    </tr>\n",
       "    <tr>\n",
       "      <th>765</th>\n",
       "      <td>5</td>\n",
       "      <td>121.0</td>\n",
       "      <td>72.0</td>\n",
       "      <td>23.0</td>\n",
       "      <td>112</td>\n",
       "      <td>26.2</td>\n",
       "      <td>0.245</td>\n",
       "      <td>30</td>\n",
       "    </tr>\n",
       "    <tr>\n",
       "      <th>766</th>\n",
       "      <td>1</td>\n",
       "      <td>126.0</td>\n",
       "      <td>60.0</td>\n",
       "      <td>23.0</td>\n",
       "      <td>0</td>\n",
       "      <td>30.1</td>\n",
       "      <td>0.349</td>\n",
       "      <td>47</td>\n",
       "    </tr>\n",
       "    <tr>\n",
       "      <th>767</th>\n",
       "      <td>1</td>\n",
       "      <td>93.0</td>\n",
       "      <td>70.0</td>\n",
       "      <td>31.0</td>\n",
       "      <td>0</td>\n",
       "      <td>30.4</td>\n",
       "      <td>0.315</td>\n",
       "      <td>23</td>\n",
       "    </tr>\n",
       "  </tbody>\n",
       "</table>\n",
       "<p>768 rows × 8 columns</p>\n",
       "</div>"
      ],
      "text/plain": [
       "     Pregnancies  Glucose  BloodPressure  SkinThickness  Insulin   BMI  \\\n",
       "0              6    148.0           72.0           35.0        0  33.6   \n",
       "1              1     85.0           66.0           29.0        0  26.6   \n",
       "2              8    183.0           64.0           23.0        0  23.3   \n",
       "3              1     89.0           66.0           23.0       94  28.1   \n",
       "4              0    137.0           40.0           35.0      168  43.1   \n",
       "..           ...      ...            ...            ...      ...   ...   \n",
       "763           10    101.0           76.0           48.0      180  32.9   \n",
       "764            2    122.0           70.0           27.0        0  36.8   \n",
       "765            5    121.0           72.0           23.0      112  26.2   \n",
       "766            1    126.0           60.0           23.0        0  30.1   \n",
       "767            1     93.0           70.0           31.0        0  30.4   \n",
       "\n",
       "     DiabetesPedigreeFunction  Age  \n",
       "0                       0.627   50  \n",
       "1                       0.351   31  \n",
       "2                       0.672   32  \n",
       "3                       0.167   21  \n",
       "4                       2.288   33  \n",
       "..                        ...  ...  \n",
       "763                     0.171   63  \n",
       "764                     0.340   27  \n",
       "765                     0.245   30  \n",
       "766                     0.349   47  \n",
       "767                     0.315   23  \n",
       "\n",
       "[768 rows x 8 columns]"
      ]
     },
     "execution_count": 14,
     "metadata": {},
     "output_type": "execute_result"
    }
   ],
   "source": [
    "x"
   ]
  },
  {
   "cell_type": "code",
   "execution_count": 15,
   "id": "2b75cb47",
   "metadata": {},
   "outputs": [],
   "source": [
    "from sklearn.model_selection import train_test_split\n",
    "x_train,x_test,y_train,y_test=train_test_split(x,y,test_size=0.30,random_state=42)"
   ]
  },
  {
   "cell_type": "code",
   "execution_count": 18,
   "id": "15b378a6",
   "metadata": {},
   "outputs": [],
   "source": [
    "from sklearn.model_selection import GridSearchCV\n",
    "from sklearn.ensemble import RandomForestClassifier\n",
    "from sklearn.model_selection import RandomizedSearchCV\n"
   ]
  },
  {
   "cell_type": "code",
   "execution_count": 19,
   "id": "d5662f2b",
   "metadata": {},
   "outputs": [],
   "source": [
    "rf=RandomForestClassifier()"
   ]
  },
  {
   "cell_type": "code",
   "execution_count": 21,
   "id": "6c0f093b",
   "metadata": {},
   "outputs": [],
   "source": [
    "#no of tress\n",
    "n_estimators=[int(x) for x in np.linspace(200,2000,10)]\n",
    "# no of features to be considered for each split\n",
    "max_features=['auto','log2','sqrt']\n",
    "#maximum no. of levels in a tree\n",
    "max_depth=[int(x) for x in np.linspace(10,100,10)]\n",
    "#minm no of samples required to split each node\n",
    "min_samples_split=[2,5,10,14]\n",
    "#min no of samples required at each leaf node\n",
    "min_samples_leaf=[1,2,4,6,8]\n",
    "#\n"
   ]
  },
  {
   "cell_type": "code",
   "execution_count": 32,
   "id": "fafe25c5",
   "metadata": {},
   "outputs": [],
   "source": [
    "random_grid={'n_estimators':n_estimators,\n",
    "            'max_features':max_features,\n",
    "            'max_depth':max_depth,\n",
    "            'min_samples_split':min_samples_split,\n",
    "            'min_samples_leaf':min_samples_leaf,\n",
    "            'criterion':['gini','entropy']}"
   ]
  },
  {
   "cell_type": "code",
   "execution_count": 33,
   "id": "31994fcb",
   "metadata": {},
   "outputs": [],
   "source": [
    "rf_cv=RandomizedSearchCV(estimator=rf,param_distributions=random_grid,n_jobs=-1,verbose=2,cv=5)"
   ]
  },
  {
   "cell_type": "code",
   "execution_count": 34,
   "id": "3e3ca1bd",
   "metadata": {},
   "outputs": [
    {
     "data": {
      "text/plain": [
       "RandomForestClassifier()"
      ]
     },
     "execution_count": 34,
     "metadata": {},
     "output_type": "execute_result"
    }
   ],
   "source": [
    "rf"
   ]
  },
  {
   "cell_type": "code",
   "execution_count": 35,
   "id": "58821c24",
   "metadata": {},
   "outputs": [
    {
     "name": "stdout",
     "output_type": "stream",
     "text": [
      "Fitting 5 folds for each of 10 candidates, totalling 50 fits\n"
     ]
    },
    {
     "data": {
      "text/plain": [
       "RandomizedSearchCV(cv=5, estimator=RandomForestClassifier(), n_jobs=-1,\n",
       "                   param_distributions={'criterion': ['gini', 'entropy'],\n",
       "                                        'max_depth': [10, 20, 30, 40, 50, 60,\n",
       "                                                      70, 80, 90, 100],\n",
       "                                        'max_features': ['auto', 'log2',\n",
       "                                                         'sqrt'],\n",
       "                                        'min_samples_leaf': [1, 2, 4, 6, 8],\n",
       "                                        'min_samples_split': [2, 5, 10, 14],\n",
       "                                        'n_estimators': [200, 400, 600, 800,\n",
       "                                                         1000, 1200, 1400, 1600,\n",
       "                                                         1800, 2000]},\n",
       "                   verbose=2)"
      ]
     },
     "execution_count": 35,
     "metadata": {},
     "output_type": "execute_result"
    }
   ],
   "source": [
    "rf_cv.fit(x_train,y_train)"
   ]
  },
  {
   "cell_type": "code",
   "execution_count": 36,
   "id": "03dd3d9d",
   "metadata": {},
   "outputs": [
    {
     "data": {
      "text/plain": [
       "{'n_estimators': 800,\n",
       " 'min_samples_split': 5,\n",
       " 'min_samples_leaf': 1,\n",
       " 'max_features': 'auto',\n",
       " 'max_depth': 30,\n",
       " 'criterion': 'gini'}"
      ]
     },
     "execution_count": 36,
     "metadata": {},
     "output_type": "execute_result"
    }
   ],
   "source": [
    "rf_cv.best_params_"
   ]
  },
  {
   "cell_type": "code",
   "execution_count": 37,
   "id": "5808a0bf",
   "metadata": {},
   "outputs": [],
   "source": [
    "best_random_grid=rf_cv.best_estimator_"
   ]
  },
  {
   "cell_type": "code",
   "execution_count": 38,
   "id": "2207973c",
   "metadata": {},
   "outputs": [],
   "source": [
    "y_pred=best_random_grid.predict(x_test)"
   ]
  },
  {
   "cell_type": "code",
   "execution_count": 87,
   "id": "284b7f62",
   "metadata": {
    "scrolled": true
   },
   "outputs": [
    {
     "name": "stdout",
     "output_type": "stream",
     "text": [
      "[[123  28]\n",
      " [ 26  54]]\n",
      "Accuracy_Score:0.7662337662337663\n",
      "Classification_report:              precision    recall  f1-score   support\n",
      "\n",
      "           0       0.83      0.81      0.82       151\n",
      "           1       0.66      0.68      0.67        80\n",
      "\n",
      "    accuracy                           0.77       231\n",
      "   macro avg       0.74      0.74      0.74       231\n",
      "weighted avg       0.77      0.77      0.77       231\n",
      "\n"
     ]
    }
   ],
   "source": [
    "from sklearn.metrics import accuracy_score,classification_report,confusion_matrix\n",
    "print(confusion_matrix(y_test,y_pred))\n",
    "print(\"Accuracy_Score:{}\".format(accuracy_score(y_test,y_pred)))\n",
    "print(\"Classification_report:{}\".format(classification_report(y_test,y_pred)))"
   ]
  },
  {
   "cell_type": "markdown",
   "id": "45cdeba1",
   "metadata": {},
   "source": [
    "# GridSearchCV"
   ]
  },
  {
   "cell_type": "code",
   "execution_count": 52,
   "id": "5104236d",
   "metadata": {},
   "outputs": [],
   "source": [
    "from sklearn.model_selection import GridSearchCV\n",
    "n_estimators=[int(x) for x in np.linspace(100,1500,10)]\n",
    "max_features=['auto','sqrt','log2',None]\n",
    "max_depth=[int(x) for x in np.linspace(100,1000,10)]\n",
    "min_samples_leaf=[1,2,5,6,8,10]\n",
    "min_samples_split=[2,4,6,8,10]\n",
    "criterion=['gini','entropy']"
   ]
  },
  {
   "cell_type": "code",
   "execution_count": 53,
   "id": "b256812b",
   "metadata": {},
   "outputs": [],
   "source": [
    "param_grid={'n_estimators':n_estimators,\n",
    "           'max_depth':max_depth,\n",
    "           'max_features':max_features,\n",
    "           'min_samples_leaf':min_samples_leaf,\n",
    "           'min_samples_split':min_samples_split,\n",
    "           'criterion':['gini','entropy']}"
   ]
  },
  {
   "cell_type": "code",
   "execution_count": 54,
   "id": "5cc87490",
   "metadata": {},
   "outputs": [],
   "source": [
    "rf=RandomForestClassifier()"
   ]
  },
  {
   "cell_type": "code",
   "execution_count": 57,
   "id": "95f66286",
   "metadata": {},
   "outputs": [],
   "source": [
    "rf_grid_cv=RandomizedSearchCV(estimator=rf,param_distributions=param_grid,cv=3,verbose=2,n_jobs=-1,scoring='accuracy')"
   ]
  },
  {
   "cell_type": "code",
   "execution_count": 59,
   "id": "c1ced5dc",
   "metadata": {},
   "outputs": [
    {
     "data": {
      "text/plain": [
       "RandomizedSearchCV(cv=3, estimator=RandomForestClassifier(), n_jobs=-1,\n",
       "                   param_distributions={'criterion': ['gini', 'entropy'],\n",
       "                                        'max_depth': [100, 200, 300, 400, 500,\n",
       "                                                      600, 700, 800, 900,\n",
       "                                                      1000],\n",
       "                                        'max_features': ['auto', 'sqrt', 'log2',\n",
       "                                                         None],\n",
       "                                        'min_samples_leaf': [1, 2, 5, 6, 8, 10],\n",
       "                                        'min_samples_split': [2, 4, 6, 8, 10],\n",
       "                                        'n_estimators': [100, 255, 411, 566,\n",
       "                                                         722, 877, 1033, 1188,\n",
       "                                                         1344, 1500]},\n",
       "                   scoring='accuracy', verbose=2)"
      ]
     },
     "execution_count": 59,
     "metadata": {},
     "output_type": "execute_result"
    }
   ],
   "source": [
    "rf_grid_cv"
   ]
  },
  {
   "cell_type": "code",
   "execution_count": 61,
   "id": "f6f33733",
   "metadata": {
    "scrolled": true
   },
   "outputs": [
    {
     "name": "stdout",
     "output_type": "stream",
     "text": [
      "Fitting 3 folds for each of 10 candidates, totalling 30 fits\n"
     ]
    },
    {
     "data": {
      "text/plain": [
       "RandomizedSearchCV(cv=3, estimator=RandomForestClassifier(), n_jobs=-1,\n",
       "                   param_distributions={'criterion': ['gini', 'entropy'],\n",
       "                                        'max_depth': [100, 200, 300, 400, 500,\n",
       "                                                      600, 700, 800, 900,\n",
       "                                                      1000],\n",
       "                                        'max_features': ['auto', 'sqrt', 'log2',\n",
       "                                                         None],\n",
       "                                        'min_samples_leaf': [1, 2, 5, 6, 8, 10],\n",
       "                                        'min_samples_split': [2, 4, 6, 8, 10],\n",
       "                                        'n_estimators': [100, 255, 411, 566,\n",
       "                                                         722, 877, 1033, 1188,\n",
       "                                                         1344, 1500]},\n",
       "                   scoring='accuracy', verbose=2)"
      ]
     },
     "execution_count": 61,
     "metadata": {},
     "output_type": "execute_result"
    }
   ],
   "source": [
    "rf_grid_cv.fit(x_train,y_train)"
   ]
  },
  {
   "cell_type": "code",
   "execution_count": 62,
   "id": "b7cbf6a6",
   "metadata": {},
   "outputs": [
    {
     "data": {
      "text/plain": [
       "{'n_estimators': 411,\n",
       " 'min_samples_split': 2,\n",
       " 'min_samples_leaf': 2,\n",
       " 'max_features': 'sqrt',\n",
       " 'max_depth': 1000,\n",
       " 'criterion': 'gini'}"
      ]
     },
     "execution_count": 62,
     "metadata": {},
     "output_type": "execute_result"
    }
   ],
   "source": [
    "rf_grid_cv.best_params_"
   ]
  },
  {
   "cell_type": "code",
   "execution_count": 63,
   "id": "b5f1d079",
   "metadata": {},
   "outputs": [],
   "source": [
    "best_grid_cv=rf_grid_cv.best_estimator_"
   ]
  },
  {
   "cell_type": "code",
   "execution_count": 64,
   "id": "21573e0c",
   "metadata": {
    "scrolled": true
   },
   "outputs": [
    {
     "data": {
      "text/plain": [
       "RandomForestClassifier(max_depth=1000, max_features='sqrt', min_samples_leaf=2,\n",
       "                       n_estimators=411)"
      ]
     },
     "execution_count": 64,
     "metadata": {},
     "output_type": "execute_result"
    }
   ],
   "source": [
    "best_grid_cv"
   ]
  },
  {
   "cell_type": "code",
   "execution_count": 65,
   "id": "e1bd2e63",
   "metadata": {},
   "outputs": [],
   "source": [
    "y_predict=best_grid_cv.predict(x_test)"
   ]
  },
  {
   "cell_type": "code",
   "execution_count": 67,
   "id": "0dce58c7",
   "metadata": {
    "scrolled": true
   },
   "outputs": [
    {
     "name": "stdout",
     "output_type": "stream",
     "text": [
      "0.7662337662337663\n",
      "              precision    recall  f1-score   support\n",
      "\n",
      "           0       0.83      0.81      0.82       151\n",
      "           1       0.66      0.68      0.67        80\n",
      "\n",
      "    accuracy                           0.77       231\n",
      "   macro avg       0.74      0.74      0.74       231\n",
      "weighted avg       0.77      0.77      0.77       231\n",
      "\n"
     ]
    }
   ],
   "source": [
    "print(accuracy_score(y_test,y_predict))\n",
    "print(classification_report(y_test,y_predict))"
   ]
  },
  {
   "cell_type": "markdown",
   "id": "74a2c958",
   "metadata": {},
   "source": [
    "# Automated Hyperparameter Tuning"
   ]
  },
  {
   "cell_type": "markdown",
   "id": "8a489c9f",
   "metadata": {},
   "source": [
    "# OPTUNA"
   ]
  },
  {
   "cell_type": "code",
   "execution_count": 78,
   "id": "ba5ec60b",
   "metadata": {
    "scrolled": true
   },
   "outputs": [
    {
     "name": "stderr",
     "output_type": "stream",
     "text": [
      "\u001b[32m[I 2023-05-18 16:37:01,703]\u001b[0m A new study created in memory with name: no-name-3adfcc1b-bd6a-4cc8-8d05-a176c0dd7e18\u001b[0m\n",
      "\u001b[32m[I 2023-05-18 16:37:04,700]\u001b[0m Trial 0 finished with value: 0.7662337662337663 and parameters: {'n_estimators': 1420, 'max_depth': 11.809939676615768, 'max_features': 'log2', 'min_samples_leaf': 4, 'criterion': 'gini'}. Best is trial 0 with value: 0.7662337662337663.\u001b[0m\n",
      "C:\\Users\\souvi\\anaconda3\\lib\\site-packages\\optuna\\distributions.py:716: UserWarning: The distribution is specified by [4, 5] and step=6, but the range is not divisible by `step`. It will be replaced by [4, 4].\n",
      "  warnings.warn(\n",
      "\u001b[32m[I 2023-05-18 16:37:08,849]\u001b[0m Trial 1 finished with value: 0.7705627705627706 and parameters: {'n_estimators': 1990, 'max_depth': 25.70633219847523, 'max_features': 'log2', 'min_samples_leaf': 4, 'criterion': 'entropy'}. Best is trial 1 with value: 0.7705627705627706.\u001b[0m\n",
      "C:\\Users\\souvi\\anaconda3\\lib\\site-packages\\optuna\\distributions.py:716: UserWarning: The distribution is specified by [4, 5] and step=6, but the range is not divisible by `step`. It will be replaced by [4, 4].\n",
      "  warnings.warn(\n",
      "\u001b[32m[I 2023-05-18 16:37:10,264]\u001b[0m Trial 2 finished with value: 0.7748917748917749 and parameters: {'n_estimators': 750, 'max_depth': 15.87008983682878, 'max_features': 'log2', 'min_samples_leaf': 4, 'criterion': 'entropy'}. Best is trial 2 with value: 0.7748917748917749.\u001b[0m\n",
      "C:\\Users\\souvi\\anaconda3\\lib\\site-packages\\optuna\\distributions.py:716: UserWarning: The distribution is specified by [4, 5] and step=6, but the range is not divisible by `step`. It will be replaced by [4, 4].\n",
      "  warnings.warn(\n",
      "\u001b[32m[I 2023-05-18 16:37:13,144]\u001b[0m Trial 3 finished with value: 0.7662337662337663 and parameters: {'n_estimators': 1570, 'max_depth': 10.114649426080673, 'max_features': 'sqrt', 'min_samples_leaf': 4, 'criterion': 'entropy'}. Best is trial 2 with value: 0.7748917748917749.\u001b[0m\n",
      "C:\\Users\\souvi\\anaconda3\\lib\\site-packages\\optuna\\distributions.py:716: UserWarning: The distribution is specified by [4, 5] and step=6, but the range is not divisible by `step`. It will be replaced by [4, 4].\n",
      "  warnings.warn(\n",
      "\u001b[32m[I 2023-05-18 16:37:14,484]\u001b[0m Trial 4 finished with value: 0.7619047619047619 and parameters: {'n_estimators': 820, 'max_depth': 17.499747821336715, 'max_features': 'sqrt', 'min_samples_leaf': 4, 'criterion': 'entropy'}. Best is trial 2 with value: 0.7748917748917749.\u001b[0m\n",
      "C:\\Users\\souvi\\anaconda3\\lib\\site-packages\\optuna\\distributions.py:716: UserWarning: The distribution is specified by [4, 5] and step=6, but the range is not divisible by `step`. It will be replaced by [4, 4].\n",
      "  warnings.warn(\n",
      "\u001b[32m[I 2023-05-18 16:37:14,906]\u001b[0m Trial 5 finished with value: 0.7705627705627706 and parameters: {'n_estimators': 250, 'max_depth': 14.604842861946132, 'max_features': 'auto', 'min_samples_leaf': 4, 'criterion': 'gini'}. Best is trial 2 with value: 0.7748917748917749.\u001b[0m\n",
      "C:\\Users\\souvi\\anaconda3\\lib\\site-packages\\optuna\\distributions.py:716: UserWarning: The distribution is specified by [4, 5] and step=6, but the range is not divisible by `step`. It will be replaced by [4, 4].\n",
      "  warnings.warn(\n",
      "\u001b[32m[I 2023-05-18 16:37:17,041]\u001b[0m Trial 6 finished with value: 0.7662337662337663 and parameters: {'n_estimators': 1300, 'max_depth': 21.143712402651822, 'max_features': 'sqrt', 'min_samples_leaf': 4, 'criterion': 'gini'}. Best is trial 2 with value: 0.7748917748917749.\u001b[0m\n",
      "C:\\Users\\souvi\\anaconda3\\lib\\site-packages\\optuna\\distributions.py:716: UserWarning: The distribution is specified by [4, 5] and step=6, but the range is not divisible by `step`. It will be replaced by [4, 4].\n",
      "  warnings.warn(\n",
      "\u001b[32m[I 2023-05-18 16:37:18,241]\u001b[0m Trial 7 finished with value: 0.7705627705627706 and parameters: {'n_estimators': 630, 'max_depth': 76.48206393455244, 'max_features': 'log2', 'min_samples_leaf': 4, 'criterion': 'entropy'}. Best is trial 2 with value: 0.7748917748917749.\u001b[0m\n",
      "C:\\Users\\souvi\\anaconda3\\lib\\site-packages\\optuna\\distributions.py:716: UserWarning: The distribution is specified by [4, 5] and step=6, but the range is not divisible by `step`. It will be replaced by [4, 4].\n",
      "  warnings.warn(\n",
      "\u001b[32m[I 2023-05-18 16:37:21,747]\u001b[0m Trial 8 finished with value: 0.7575757575757576 and parameters: {'n_estimators': 1260, 'max_depth': 15.733953940344906, 'max_features': 'log2', 'min_samples_leaf': 4, 'criterion': 'gini'}. Best is trial 2 with value: 0.7748917748917749.\u001b[0m\n",
      "C:\\Users\\souvi\\anaconda3\\lib\\site-packages\\optuna\\distributions.py:716: UserWarning: The distribution is specified by [4, 5] and step=6, but the range is not divisible by `step`. It will be replaced by [4, 4].\n",
      "  warnings.warn(\n",
      "\u001b[32m[I 2023-05-18 16:37:23,944]\u001b[0m Trial 9 finished with value: 0.7662337662337663 and parameters: {'n_estimators': 860, 'max_depth': 12.22941708623273, 'max_features': 'log2', 'min_samples_leaf': 4, 'criterion': 'entropy'}. Best is trial 2 with value: 0.7748917748917749.\u001b[0m\n",
      "C:\\Users\\souvi\\anaconda3\\lib\\site-packages\\optuna\\distributions.py:716: UserWarning: The distribution is specified by [4, 5] and step=6, but the range is not divisible by `step`. It will be replaced by [4, 4].\n",
      "  warnings.warn(\n",
      "\u001b[32m[I 2023-05-18 16:37:24,338]\u001b[0m Trial 10 finished with value: 0.7575757575757576 and parameters: {'n_estimators': 210, 'max_depth': 40.14328433650564, 'max_features': 'auto', 'min_samples_leaf': 4, 'criterion': 'entropy'}. Best is trial 2 with value: 0.7748917748917749.\u001b[0m\n",
      "C:\\Users\\souvi\\anaconda3\\lib\\site-packages\\optuna\\distributions.py:716: UserWarning: The distribution is specified by [4, 5] and step=6, but the range is not divisible by `step`. It will be replaced by [4, 4].\n",
      "  warnings.warn(\n",
      "\u001b[32m[I 2023-05-18 16:37:27,741]\u001b[0m Trial 11 finished with value: 0.7662337662337663 and parameters: {'n_estimators': 1820, 'max_depth': 27.215969508671066, 'max_features': 'log2', 'min_samples_leaf': 4, 'criterion': 'entropy'}. Best is trial 2 with value: 0.7748917748917749.\u001b[0m\n",
      "C:\\Users\\souvi\\anaconda3\\lib\\site-packages\\optuna\\distributions.py:716: UserWarning: The distribution is specified by [4, 5] and step=6, but the range is not divisible by `step`. It will be replaced by [4, 4].\n",
      "  warnings.warn(\n",
      "\u001b[32m[I 2023-05-18 16:37:31,562]\u001b[0m Trial 12 finished with value: 0.7662337662337663 and parameters: {'n_estimators': 1920, 'max_depth': 25.10450885605885, 'max_features': 'log2', 'min_samples_leaf': 4, 'criterion': 'entropy'}. Best is trial 2 with value: 0.7748917748917749.\u001b[0m\n",
      "C:\\Users\\souvi\\anaconda3\\lib\\site-packages\\optuna\\distributions.py:716: UserWarning: The distribution is specified by [4, 5] and step=6, but the range is not divisible by `step`. It will be replaced by [4, 4].\n",
      "  warnings.warn(\n",
      "\u001b[32m[I 2023-05-18 16:37:32,595]\u001b[0m Trial 13 finished with value: 0.7662337662337663 and parameters: {'n_estimators': 470, 'max_depth': 33.83366476333006, 'max_features': 'log2', 'min_samples_leaf': 4, 'criterion': 'entropy'}. Best is trial 2 with value: 0.7748917748917749.\u001b[0m\n",
      "C:\\Users\\souvi\\anaconda3\\lib\\site-packages\\optuna\\distributions.py:716: UserWarning: The distribution is specified by [4, 5] and step=6, but the range is not divisible by `step`. It will be replaced by [4, 4].\n",
      "  warnings.warn(\n",
      "\u001b[32m[I 2023-05-18 16:37:34,811]\u001b[0m Trial 14 finished with value: 0.7662337662337663 and parameters: {'n_estimators': 1080, 'max_depth': 19.627237630913786, 'max_features': 'log2', 'min_samples_leaf': 4, 'criterion': 'entropy'}. Best is trial 2 with value: 0.7748917748917749.\u001b[0m\n"
     ]
    }
   ],
   "source": [
    "\n",
    "import optuna\n",
    "def objective(trial):\n",
    "        n_estimators=trial.suggest_int('n_estimators',20,2000,10)\n",
    "        max_depth=int(trial.suggest_float('max_depth',10,100,log=True))\n",
    "        max_features=trial.suggest_categorical('max_features',['auto','log2','sqrt'])\n",
    "        min_samples_leaf=trial.suggest_int('min_samples_leaf',4,5,6)\n",
    "        criterion=trial.suggest_categorical('criterion',['gini','entropy'])\n",
    "        model=RandomForestClassifier(n_estimators=n_estimators,max_depth=max_depth,max_features=max_features,min_samples_leaf=min_samples_leaf,criterion=criterion)\n",
    "        model.fit(x_train,y_train)\n",
    "        y_pred=model.predict(x_test)\n",
    "        accuracyscore=accuracy_score(y_test,y_pred)\n",
    "        return accuracyscore\n",
    "study=optuna.create_study(direction='maximize')\n",
    "study.optimize(objective,n_trials=15)\n",
    "trial=study.best_trial\n",
    "    "
   ]
  },
  {
   "cell_type": "code",
   "execution_count": 79,
   "id": "8742fe19",
   "metadata": {},
   "outputs": [
    {
     "data": {
      "text/plain": [
       "FrozenTrial(number=2, state=TrialState.COMPLETE, values=[0.7748917748917749], datetime_start=datetime.datetime(2023, 5, 18, 16, 37, 8, 849718), datetime_complete=datetime.datetime(2023, 5, 18, 16, 37, 10, 264605), params={'n_estimators': 750, 'max_depth': 15.87008983682878, 'max_features': 'log2', 'min_samples_leaf': 4, 'criterion': 'entropy'}, user_attrs={}, system_attrs={}, intermediate_values={}, distributions={'n_estimators': IntDistribution(high=2000, log=False, low=20, step=10), 'max_depth': FloatDistribution(high=100.0, log=True, low=10.0, step=None), 'max_features': CategoricalDistribution(choices=('auto', 'log2', 'sqrt')), 'min_samples_leaf': IntDistribution(high=4, log=False, low=4, step=6), 'criterion': CategoricalDistribution(choices=('gini', 'entropy'))}, trial_id=2, value=None)"
      ]
     },
     "execution_count": 79,
     "metadata": {},
     "output_type": "execute_result"
    }
   ],
   "source": [
    "trial"
   ]
  },
  {
   "cell_type": "code",
   "execution_count": 82,
   "id": "312ff0f0",
   "metadata": {},
   "outputs": [
    {
     "data": {
      "text/plain": [
       "0.7662337662337663"
      ]
     },
     "execution_count": 82,
     "metadata": {},
     "output_type": "execute_result"
    }
   ],
   "source": [
    "model=RandomForestClassifier(n_estimators=1990,max_depth=25.706,max_features='log2',criterion='entropy',min_samples_leaf=4)\n",
    "model.fit(x_train,y_train)\n",
    "y_pred=model.predict(x_test)\n",
    "accuracy=accuracy_score(y_test,y_pred)\n",
    "accuracy"
   ]
  },
  {
   "cell_type": "code",
   "execution_count": null,
   "id": "0cbe725a",
   "metadata": {},
   "outputs": [
    {
     "name": "stderr",
     "output_type": "stream",
     "text": [
      "\u001b[32m[I 2023-05-18 16:55:55,084]\u001b[0m A new study created in memory with name: no-name-9dde4941-efeb-4438-bb6d-88c674150977\u001b[0m\n",
      "\u001b[32m[I 2023-05-18 16:56:07,049]\u001b[0m Trial 0 finished with value: 0.7359307359307359 and parameters: {'C': 5, 'kernel': 'linear', 'gamma': 'scale'}. Best is trial 0 with value: 0.7359307359307359.\u001b[0m\n",
      "\u001b[32m[I 2023-05-18 16:56:07,119]\u001b[0m Trial 1 finished with value: 0.6536796536796536 and parameters: {'C': 4, 'kernel': 'rbf', 'gamma': 'auto'}. Best is trial 0 with value: 0.7359307359307359.\u001b[0m\n",
      "\u001b[32m[I 2023-05-18 16:56:07,187]\u001b[0m Trial 2 finished with value: 0.7489177489177489 and parameters: {'C': 8, 'kernel': 'poly', 'gamma': 'scale'}. Best is trial 2 with value: 0.7489177489177489.\u001b[0m\n",
      "\u001b[32m[I 2023-05-18 16:56:10,362]\u001b[0m Trial 3 finished with value: 0.7316017316017316 and parameters: {'C': 1, 'kernel': 'linear', 'gamma': 'auto'}. Best is trial 2 with value: 0.7489177489177489.\u001b[0m\n",
      "\u001b[32m[I 2023-05-18 16:56:10,434]\u001b[0m Trial 4 finished with value: 0.7489177489177489 and parameters: {'C': 9, 'kernel': 'poly', 'gamma': 'scale'}. Best is trial 2 with value: 0.7489177489177489.\u001b[0m\n"
     ]
    }
   ],
   "source": [
    "from sklearn.svm import SVC\n",
    "model=SVC()\n",
    "def objective(trial):\n",
    "    C=trial.suggest_int('C',1,10)\n",
    "    kernel=trial.suggest_categorical('kernel',['rbf','linear','poly'])\n",
    "    gamma=trial.suggest_categorical('gamma',['scale','auto'])\n",
    "    model=SVC(C=C,kernel=kernel,gamma=gamma)\n",
    "    model.fit(x_train,y_train)\n",
    "    ypred=model.predict(x_test)\n",
    "    acc=accuracy_score(y_test,ypred)\n",
    "    return acc\n",
    "study=optuna.create_study(direction='maximize')\n",
    "study.optimize(objective,n_trials=10)\n",
    "trial=study.best_trial"
   ]
  },
  {
   "cell_type": "markdown",
   "id": "559e9e79",
   "metadata": {},
   "source": [
    "# Find RandomForest as the correct ML algorithm for this dataset"
   ]
  },
  {
   "cell_type": "code",
   "execution_count": null,
   "id": "0e9047d2",
   "metadata": {},
   "outputs": [],
   "source": []
  }
 ],
 "metadata": {
  "kernelspec": {
   "display_name": "Python 3 (ipykernel)",
   "language": "python",
   "name": "python3"
  },
  "language_info": {
   "codemirror_mode": {
    "name": "ipython",
    "version": 3
   },
   "file_extension": ".py",
   "mimetype": "text/x-python",
   "name": "python",
   "nbconvert_exporter": "python",
   "pygments_lexer": "ipython3",
   "version": "3.9.13"
  }
 },
 "nbformat": 4,
 "nbformat_minor": 5
}
